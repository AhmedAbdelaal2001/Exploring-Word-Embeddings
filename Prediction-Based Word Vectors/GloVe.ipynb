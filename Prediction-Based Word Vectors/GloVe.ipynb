{
 "cells": [
  {
   "cell_type": "markdown",
   "id": "96cb204d",
   "metadata": {},
   "source": [
    "## Prediction-Based Word Vectors (GloVe)"
   ]
  },
  {
   "cell_type": "markdown",
   "id": "a07b1e1d",
   "metadata": {},
   "source": [
    "In this notebook, we shall explore the word embeddings obtained from the GloVe (Global Vectors for Word Representations).\n",
    "We will start by analyzing the relationships between some words of interest in the Reuter's corpus, by plotting 2 dimensional versions of the word vectors in a scatter plot (dimensionality reduction technique used is Truncated SVD), and observe the differences when compared to the results yielded from the previous count-based model.\n",
    "Afterwards, we shall explore the quality of the word vectors by analyzing Polysemes, Synonyms, Antonyms, Analogies, and Bias."
   ]
  },
  {
   "cell_type": "code",
   "execution_count": 1,
   "id": "8c03ff8a",
   "metadata": {},
   "outputs": [],
   "source": [
    "from utils_PredictionBased import *\n",
    "import pprint"
   ]
  },
  {
   "cell_type": "code",
   "execution_count": 2,
   "id": "ee1b094a",
   "metadata": {},
   "outputs": [],
   "source": [
    "wv_from_bin = load_embedding_model()"
   ]
  },
  {
   "cell_type": "code",
   "execution_count": 3,
   "id": "a8c4340b",
   "metadata": {},
   "outputs": [],
   "source": [
    "# Prepares a matrix of ~ 10k word vectors from the loaded GloVe model, and then reduces the dimension of each word embedding\n",
    "# 400 to 2 using truncated SVD.\n",
    "M, word2ind = get_matrix_of_vectors(wv_from_bin)\n",
    "M_reduced = reduce_to_k_dim(M, k=2)\n",
    "\n",
    "# Normalize each row of the matrix before plotting.\n",
    "M_lengths = np.linalg.norm(M_reduced, axis=1)\n",
    "M_reduced_normalized = M_reduced / M_lengths[:, np.newaxis] # broadcasting"
   ]
  },
  {
   "cell_type": "code",
   "execution_count": 4,
   "id": "24522d9f",
   "metadata": {},
   "outputs": [
    {
     "data": {
      "image/png": "[encoded data removed]",
      "text/plain": [
       "<Figure size 432x288 with 1 Axes>"
      ]
     },
     "metadata": {
      "needs_background": "light"
     },
     "output_type": "display_data"
    }
   ],
   "source": [
    "# Plot the 2 dimensional word embeddings.\n",
    "words = ['tonnes', 'grain', 'wheat',  'agriculture', 'corn', 'maize', 'export', 'department', 'barley', 'grains', 'soybeans', 'sorghum']\n",
    "plot_embeddings(M_reduced_normalized, word2ind, words)"
   ]
  },
  {
   "cell_type": "markdown",
   "id": "56b7add9",
   "metadata": {},
   "source": [
    "### Exploring Polysemes - Words With Multiple Meanings"
   ]
  },
  {
   "cell_type": "code",
   "execution_count": 5,
   "id": "1edbe1b6",
   "metadata": {},
   "outputs": [
    {
     "name": "stdout",
     "output_type": "stream",
     "text": [
      "[('ends', 0.6128067970275879), ('leaf', 0.6027014255523682), ('stems', 0.5998531579971313), ('takes', 0.5902854800224304), ('leaving', 0.5761634111404419), ('grows', 0.5663397312164307), ('flowers', 0.5600922107696533), ('turns', 0.5536050796508789), ('leave', 0.5496848821640015), ('goes', 0.5434924960136414)]\n"
     ]
    }
   ],
   "source": [
    "similars = wv_from_bin.most_similar('leaves')\n",
    "print(similars)"
   ]
  },
  {
   "cell_type": "code",
   "execution_count": 6,
   "id": "c0368487",
   "metadata": {},
   "outputs": [
    {
     "name": "stdout",
     "output_type": "stream",
     "text": [
      "[('scoops', 0.6437130570411682), ('spoon', 0.5459855794906616), ('scooped', 0.5319253206253052), ('slice', 0.5201053023338318), ('innside', 0.5154464244842529), ('cream', 0.4963828921318054), ('scooping', 0.49233871698379517), ('buckets', 0.4825914204120636), ('fatman', 0.4815135896205902), ('scrape', 0.4774448275566101)]\n"
     ]
    }
   ],
   "source": [
    "similars = wv_from_bin.most_similar('scoop')\n",
    "print(similars)"
   ]
  },
  {
   "cell_type": "code",
   "execution_count": 7,
   "id": "84cf6270",
   "metadata": {},
   "outputs": [
    {
     "name": "stdout",
     "output_type": "stream",
     "text": [
      "[('procuring', 0.6463401913642883), ('procured', 0.6035971641540527), ('obtain', 0.559282124042511), ('equip', 0.5188530683517456), ('manufacture', 0.5124150514602661), ('fabricate', 0.4991585910320282), ('assemble', 0.49078983068466187), ('smuggle', 0.48390427231788635), ('distribute', 0.4838152527809143), ('supplying', 0.4820416569709778)]\n"
     ]
    }
   ],
   "source": [
    "similars = wv_from_bin.most_similar('procure')\n",
    "print(similars)"
   ]
  },
  {
   "cell_type": "markdown",
   "id": "17d85c08",
   "metadata": {},
   "source": [
    "### Exploring Synonyms and Antonyms"
   ]
  },
  {
   "cell_type": "code",
   "execution_count": 8,
   "id": "32f20217",
   "metadata": {},
   "outputs": [
    {
     "name": "stdout",
     "output_type": "stream",
     "text": [
      "0.25513195991516113\n",
      "0.3511464595794678\n"
     ]
    }
   ],
   "source": [
    "# Normal Result.\n",
    "print(wv_from_bin.distance('big', 'huge'))\n",
    "print(wv_from_bin.distance('big', 'small'))"
   ]
  },
  {
   "cell_type": "code",
   "execution_count": 9,
   "id": "4fad21fe",
   "metadata": {},
   "outputs": [
    {
     "name": "stdout",
     "output_type": "stream",
     "text": [
      "0.31352531909942627\n",
      "0.5179578959941864\n"
     ]
    }
   ],
   "source": [
    "# Normal Result\n",
    "print(wv_from_bin.distance('smart', 'intelligent'))\n",
    "print(wv_from_bin.distance('smart', 'stupid'))"
   ]
  },
  {
   "cell_type": "code",
   "execution_count": 10,
   "id": "af49bbd1",
   "metadata": {},
   "outputs": [
    {
     "name": "stdout",
     "output_type": "stream",
     "text": [
      "0.5172466933727264\n",
      "0.40401363372802734\n"
     ]
    }
   ],
   "source": [
    "# Counter-Intuitive.\n",
    "print(wv_from_bin.distance('happy', 'cheerful'))\n",
    "print(wv_from_bin.distance('happy', 'sad'))"
   ]
  },
  {
   "cell_type": "code",
   "execution_count": 11,
   "id": "fbfd43e6",
   "metadata": {},
   "outputs": [
    {
     "name": "stdout",
     "output_type": "stream",
     "text": [
      "0.3328642249107361\n",
      "0.25226807594299316\n"
     ]
    }
   ],
   "source": [
    "# Counter-Intuitive.\n",
    "print(wv_from_bin.distance('fast', 'quick'))\n",
    "print(wv_from_bin.distance('fast', 'slow'))"
   ]
  },
  {
   "cell_type": "markdown",
   "id": "e4a08ed4",
   "metadata": {},
   "source": [
    "A word might potentially have a \"stronger\" relationship with its antonym compared to its synonym"
   ]
  },
  {
   "cell_type": "markdown",
   "id": "f7cccb03",
   "metadata": {},
   "source": [
    "### Exploring Analogies"
   ]
  },
  {
   "cell_type": "code",
   "execution_count": 12,
   "id": "9b27aba0",
   "metadata": {},
   "outputs": [
    {
     "name": "stdout",
     "output_type": "stream",
     "text": [
      "[('grandmother', 0.7608445286750793),\n",
      " ('granddaughter', 0.7200808525085449),\n",
      " ('daughter', 0.7168302536010742),\n",
      " ('mother', 0.7151536345481873),\n",
      " ('niece', 0.7005682587623596),\n",
      " ('father', 0.6659888029098511),\n",
      " ('aunt', 0.6623408794403076),\n",
      " ('grandson', 0.6618767380714417),\n",
      " ('grandparents', 0.6446609497070312),\n",
      " ('wife', 0.6445354223251343)]\n"
     ]
    }
   ],
   "source": [
    "# man is to grandfather as woman is to:\n",
    "pprint.pprint(wv_from_bin.most_similar(positive=['woman', 'grandfather'], negative=['man']))\n",
    "# Correct analogy."
   ]
  },
  {
   "cell_type": "code",
   "execution_count": 13,
   "id": "c17e132a",
   "metadata": {},
   "outputs": [
    {
     "name": "stdout",
     "output_type": "stream",
     "text": [
      "[('quickest', 0.6256531476974487),\n",
      " ('second', 0.5536414384841919),\n",
      " ('qualifying', 0.5309496521949768),\n",
      " ('third', 0.5297176837921143),\n",
      " ('fourth', 0.5130043625831604),\n",
      " ('first', 0.49420875310897827),\n",
      " ('clocking', 0.48427003622055054),\n",
      " ('sixth', 0.4821320176124573),\n",
      " ('fifth', 0.4795231521129608),\n",
      " ('seconds', 0.47230491042137146)]\n"
     ]
    }
   ],
   "source": [
    "# fast is to fastest as quick is to:\n",
    "pprint.pprint(wv_from_bin.most_similar(positive = ['quick','fastest'], negative = ['fast']))\n",
    "# Correct analogy."
   ]
  },
  {
   "cell_type": "code",
   "execution_count": 14,
   "id": "e184049f",
   "metadata": {},
   "outputs": [
    {
     "name": "stdout",
     "output_type": "stream",
     "text": [
      "[('woods', 0.4931395649909973),\n",
      " ('tigers', 0.4840834140777588),\n",
      " ('bear', 0.43776988983154297),\n",
      " ('lion', 0.4275178909301758),\n",
      " ('hunting', 0.4224510192871094),\n",
      " ('mickelson', 0.41707539558410645),\n",
      " ('cub', 0.41608965396881104),\n",
      " ('hunter', 0.4141656160354614),\n",
      " ('fighting', 0.4121222198009491),\n",
      " ('soldier', 0.41102439165115356)]\n"
     ]
    }
   ],
   "source": [
    "# cat is to tiger as dog is to:\n",
    "pprint.pprint(wv_from_bin.most_similar(positive = ['dog', 'tiger'], negative = ['cat']))\n",
    "# Incorrect analogy."
   ]
  },
  {
   "cell_type": "markdown",
   "id": "7b6fb9a1",
   "metadata": {},
   "source": [
    "### Exploring Bias"
   ]
  },
  {
   "cell_type": "code",
   "execution_count": 15,
   "id": "8c019797",
   "metadata": {},
   "outputs": [
    {
     "name": "stdout",
     "output_type": "stream",
     "text": [
      "[('toys', 0.7094953060150146),\n",
      " ('doll', 0.5932914614677429),\n",
      " ('dolls', 0.570662260055542),\n",
      " ('barbie', 0.5407706499099731),\n",
      " ('mattel', 0.532855212688446),\n",
      " ('accessories', 0.5206909775733948),\n",
      " ('hasbro', 0.49227219820022583),\n",
      " ('jewelry', 0.47385695576667786),\n",
      " ('lego', 0.46908140182495117),\n",
      " ('apparel', 0.4613623321056366)]\n"
     ]
    }
   ],
   "source": [
    "# boy is to toy as girl is to:\n",
    "pprint.pprint(wv_from_bin.most_similar(positive=['girl', 'toy'], negative=['boy']))"
   ]
  },
  {
   "cell_type": "code",
   "execution_count": 16,
   "id": "c0dc8962",
   "metadata": {},
   "outputs": [
    {
     "name": "stdout",
     "output_type": "stream",
     "text": [
      "[('toys', 0.7157087922096252),\n",
      " ('hasbro', 0.5164632797241211),\n",
      " ('robot', 0.4731711149215698),\n",
      " ('pet', 0.4670490026473999),\n",
      " ('manufacturer', 0.46681639552116394),\n",
      " ('mattel', 0.4582391679286957),\n",
      " ('lego', 0.45811763405799866),\n",
      " ('miniature', 0.4441472887992859),\n",
      " ('makers', 0.44298243522644043),\n",
      " ('manufactured', 0.44275349378585815)]\n"
     ]
    }
   ],
   "source": [
    "# girl is to toy as boy is to:\n",
    "pprint.pprint(wv_from_bin.most_similar(positive=['boy', 'toy'], negative=['girl']))"
   ]
  },
  {
   "cell_type": "markdown",
   "id": "b4575437",
   "metadata": {},
   "source": [
    "Some degree of gender bias is apparent from the previous example, which is something to watch out for."
   ]
  }
 ],
 "metadata": {
  "kernelspec": {
   "display_name": "Python 3 (ipykernel)",
   "language": "python",
   "name": "python3"
  },
  "language_info": {
   "codemirror_mode": {
    "name": "ipython",
    "version": 3
   },
   "file_extension": ".py",
   "mimetype": "text/x-python",
   "name": "python",
   "nbconvert_exporter": "python",
   "pygments_lexer": "ipython3",
   "version": "3.9.12"
  }
 },
 "nbformat": 4,
 "nbformat_minor": 5
}
